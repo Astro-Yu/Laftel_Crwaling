{
 "cells": [
  {
   "cell_type": "code",
   "execution_count": 1,
   "metadata": {},
   "outputs": [],
   "source": [
    "import numpy as np\n",
    "import pandas as pd\n",
    "from tqdm import tqdm\n",
    "import time"
   ]
  },
  {
   "cell_type": "code",
   "execution_count": 2,
   "metadata": {},
   "outputs": [],
   "source": [
    "from selenium import webdriver\n",
    "from selenium.webdriver.ie.options import Options\n",
    "\n",
    "# GUI가 아니게 만들기\n",
    "# chromedriver\n",
    "options = webdriver.ChromeOptions()\n",
    "options.add_argument('headless')\n",
    "options.add_argument('window-size=1920x1080')\n",
    "options.add_argument(\"disable-gpu\")\n",
    "driver = webdriver.Chrome('./chromedriver_win32/chromedriver.exe' ,options=options) # 압축해제한 웹드라이버의 경로, 파일명 지정\n"
   ]
  },
  {
   "cell_type": "code",
   "execution_count": 24,
   "metadata": {},
   "outputs": [
    {
     "name": "stderr",
     "output_type": "stream",
     "text": [
      "  0%|          | 0/4 [00:00<?, ?it/s]C:\\Users\\Yuseokhyeon\\AppData\\Local\\Temp\\ipykernel_33268\\454537372.py:78: FutureWarning: The frame.append method is deprecated and will be removed from pandas in a future version. Use pandas.concat instead.\n",
      "  Anime = Anime.append(tmp_Anime, ignore_index=True)\n",
      " 25%|██▌       | 1/4 [00:05<00:15,  5.27s/it]"
     ]
    },
    {
     "name": "stdout",
     "output_type": "stream",
     "text": [
      "['동양풍']\n",
      "['동양풍' '외계인']\n",
      "['동양풍' '외계인' '판타지']\n",
      "['동양풍' '외계인' '판타지' '액션']\n",
      "['동양풍' '외계인' '판타지' '액션' '개그']\n",
      "['동양풍' '외계인' '판타지' '액션' '개그' '성인']\n",
      "['동양풍' '외계인' '판타지' '액션' '개그' '성인' '시대물']\n",
      "['동양풍' '외계인' '판타지' '액션' '개그' '성인' '시대물' '무협']\n",
      "['동양풍' '외계인' '판타지' '액션' '개그' '성인' '시대물' '무협' '마을']\n",
      "['동양풍' '외계인' '판타지' '액션' '개그' '성인' '시대물' '무협' '마을' '상점']\n",
      "['성장']\n",
      "['성장' '요괴 및 괴물']\n",
      "['성장' '요괴 및 괴물' '이능력']\n",
      "['성장' '요괴 및 괴물' '이능력' '열혈']\n",
      "['성장' '요괴 및 괴물' '이능력' '열혈' '교복']\n",
      "['성장' '요괴 및 괴물' '이능력' '열혈' '교복' '판타지']\n",
      "['성장' '요괴 및 괴물' '이능력' '열혈' '교복' '판타지' '액션']\n",
      "['성장' '요괴 및 괴물' '이능력' '열혈' '교복' '판타지' '액션' '학교']\n",
      "['성장' '요괴 및 괴물' '이능력' '열혈' '교복' '판타지' '액션' '학교' '마을']\n"
     ]
    },
    {
     "name": "stderr",
     "output_type": "stream",
     "text": [
      "C:\\Users\\Yuseokhyeon\\AppData\\Local\\Temp\\ipykernel_33268\\454537372.py:78: FutureWarning: The frame.append method is deprecated and will be removed from pandas in a future version. Use pandas.concat instead.\n",
      "  Anime = Anime.append(tmp_Anime, ignore_index=True)\n",
      " 50%|█████     | 2/4 [00:10<00:10,  5.31s/it]C:\\Users\\Yuseokhyeon\\AppData\\Local\\Temp\\ipykernel_33268\\454537372.py:78: FutureWarning: The frame.append method is deprecated and will be removed from pandas in a future version. Use pandas.concat instead.\n",
      "  Anime = Anime.append(tmp_Anime, ignore_index=True)\n",
      " 75%|███████▌  | 3/4 [00:15<00:05,  5.31s/it]"
     ]
    },
    {
     "name": "stdout",
     "output_type": "stream",
     "text": [
      "['성장']\n",
      "['성장' '요괴 및 괴물']\n",
      "['성장' '요괴 및 괴물' '열혈']\n",
      "['성장' '요괴 및 괴물' '열혈' '무거움']\n",
      "['성장' '요괴 및 괴물' '열혈' '무거움' '판타지']\n",
      "['성장' '요괴 및 괴물' '열혈' '무거움' '판타지' '액션']\n",
      "['성장' '요괴 및 괴물' '열혈' '무거움' '판타지' '액션' '시대물']\n"
     ]
    },
    {
     "name": "stderr",
     "output_type": "stream",
     "text": [
      "C:\\Users\\Yuseokhyeon\\AppData\\Local\\Temp\\ipykernel_33268\\454537372.py:78: FutureWarning: The frame.append method is deprecated and will be removed from pandas in a future version. Use pandas.concat instead.\n",
      "  Anime = Anime.append(tmp_Anime, ignore_index=True)\n",
      "100%|██████████| 4/4 [00:21<00:00,  5.30s/it]"
     ]
    },
    {
     "name": "stdout",
     "output_type": "stream",
     "text": [
      "['성장']\n",
      "['성장' '요괴 및 괴물']\n",
      "['성장' '요괴 및 괴물' '열혈']\n",
      "['성장' '요괴 및 괴물' '열혈' '무거움']\n",
      "['성장' '요괴 및 괴물' '열혈' '무거움' '판타지']\n",
      "['성장' '요괴 및 괴물' '열혈' '무거움' '판타지' '액션']\n",
      "['성장' '요괴 및 괴물' '열혈' '무거움' '판타지' '액션' '시대물']\n"
     ]
    },
    {
     "name": "stderr",
     "output_type": "stream",
     "text": [
      "\n"
     ]
    }
   ],
   "source": [
    "# Load page\n",
    "driver.get(url = \"https://laftel.net/finder\")\n",
    "\n",
    "Anime = pd.DataFrame()\n",
    "\n",
    "category_xpath4 = '//*[@id=\"root\"]/div/div[2]/div[2]/div[1]/div/div/div/div[1]/div[2]/div/div/div/div/div[3]/div[1]/div' # 감상 가능 작품이 아닌 모든 작품 검색 링크\n",
    "\n",
    "category_xpath2 = '//*[@id=\"item-modal\"]/div[1]/div/div[2]/div/header/h1' # title 링크\n",
    "\n",
    "category_xpath3 = '//*[@id=\"item_badges\"]/li[1]/label' # starpoint 링크\n",
    "\n",
    "category_xpath5 = '//*[@id=\"item-modal\"]/div[1]/div/div[2]/nav/button[2]' # 닫기버튼\n",
    "\n",
    "driver.find_element('xpath',category_xpath4).click()\n",
    "time.sleep(3)\n",
    "\n",
    "for i in tqdm(range(1,5)): # 전체 애니메이션 갯수만큼 loop, # 반복문을 시각화 # 애니 갯수를 바꾸고 싶다면 숫자를 바꿔라\n",
    "\n",
    "    category_xpath1 = '//*[@id=\"root\"]/div/div[2]/div[2]/div[2]/div/div/div/div[1]/div[2]/div/div/div/div[2]/div/a[%d]/div/div[2]/p' %i # 애니메이션 링크 (반복문 안에서 변경 필요)\n",
    "\n",
    "    driver.find_element('xpath',category_xpath1).click() # 애니메이션 클릭\n",
    "    time.sleep(5)\n",
    "\n",
    "    #print(\"제목\")\n",
    "\n",
    "    title = driver.find_element('xpath',category_xpath2).text\n",
    "    #print(title.text)\n",
    "\n",
    "    #print(\"별점\")\n",
    "\n",
    "    star_point = driver.find_element('xpath',category_xpath3).text\n",
    "    #print(star_point.text)\n",
    "\n",
    "    #time.sleep(1)\n",
    "\n",
    "    anime_link = driver.find_element_by_xpath('//*[@id=\"root\"]/div/div[2]/div[2]/div[2]/div/div/div/div[1]/div[2]/div/div/div/div[2]/div/a[%d]' %i) # 애니메이션 링크 xpath\n",
    "\n",
    "    anime_links = anime_link.get_attribute('href') # 애니메이션 링크 추출\n",
    "\n",
    "    #print(\"태그\")\n",
    "\n",
    "    taglist = np.array([])\n",
    "\n",
    "    try:\n",
    "        for j in range(1,100): # 태그가  100개 이상은 안될테니 넉넉잡아서 100개\n",
    "\n",
    "            tag = driver.find_element_by_xpath('//*[@id=\"item-modal\"]/div[1]/div/div[2]/div/div/section/article/ul/li[%d]/a' %j)\n",
    "\n",
    "            tags = tag.get_attribute('text')\n",
    "\n",
    "            tagwoush = tags.replace('#','') # '#' 문자열 제거\n",
    "\n",
    "            if ( # 원하지 않는 태그들을 제거\n",
    "            tagwoush != '블루레이 1만장 돌파' and\n",
    "            tagwoush != '원작 판매량 1000만부 돌파' and\n",
    "            tagwoush != '이 만화가 대단하다' and\n",
    "            tagwoush != '원작 판매량 1억부 돌파' and\n",
    "            tagwoush != '이 라이트노벨이 대단하다' and\n",
    "            tagwoush != '작화 고퀄' and\n",
    "            tagwoush != '원작 초월' and\n",
    "            tagwoush != '만화 원작' and\n",
    "            tagwoush != '명품 더빙' and\n",
    "            tagwoush != '게임 원작'\n",
    "        ):\n",
    "                taglist = np.append(taglist,tagwoush)\n",
    "                print(taglist)\n",
    "            else:\n",
    "                pass\n",
    "\n",
    "    except: # 오류가 나면 pass\n",
    "        pass\n",
    "\n",
    "    # 초기화 -----------------------\n",
    "    tmp_Anime = pd.DataFrame()\n",
    "\n",
    "    tmp_Anime = pd.DataFrame({'title': [title],'star_point': [star_point],'tags':[taglist],'link':[anime_links]})\n",
    "    \n",
    "    Anime = Anime.append(tmp_Anime, ignore_index=True)\n",
    "\n",
    "    driver.find_element('xpath',category_xpath5).click() # x버튼\n"
   ]
  },
  {
   "cell_type": "code",
   "execution_count": 25,
   "metadata": {},
   "outputs": [],
   "source": [
    "Anime.to_csv('./AnimeList.csv',index=False, encoding='utf-8-sig') # csv로 저장"
   ]
  },
  {
   "cell_type": "code",
   "execution_count": 14,
   "metadata": {},
   "outputs": [
    {
     "data": {
      "text/plain": [
       "'원작 판매량 1억부 돌파'"
      ]
     },
     "execution_count": 14,
     "metadata": {},
     "output_type": "execute_result"
    }
   ],
   "source": []
  },
  {
   "cell_type": "code",
   "execution_count": 7,
   "metadata": {},
   "outputs": [
    {
     "data": {
      "text/plain": [
       "array(['성장', '요괴 및 괴물', '열혈', '무거움', '판타지', '액션', '시대물', '작화 고퀄', '원작 초월',\n",
       "       '만화 원작', '이 만화가 대단하다', '블루레이 1만장 돌파', '원작 판매량 1억부 돌파'],\n",
       "      dtype='<U32')"
      ]
     },
     "execution_count": 7,
     "metadata": {},
     "output_type": "execute_result"
    }
   ],
   "source": [
    "taglist"
   ]
  },
  {
   "cell_type": "code",
   "execution_count": null,
   "metadata": {},
   "outputs": [],
   "source": []
  }
 ],
 "metadata": {
  "kernelspec": {
   "display_name": "base",
   "language": "python",
   "name": "python3"
  },
  "language_info": {
   "codemirror_mode": {
    "name": "ipython",
    "version": 3
   },
   "file_extension": ".py",
   "mimetype": "text/x-python",
   "name": "python",
   "nbconvert_exporter": "python",
   "pygments_lexer": "ipython3",
   "version": "3.10.11"
  },
  "orig_nbformat": 4
 },
 "nbformat": 4,
 "nbformat_minor": 2
}
